{
  "nbformat": 4,
  "nbformat_minor": 0,
  "metadata": {
    "colab": {
      "provenance": []
    },
    "kernelspec": {
      "name": "python3",
      "display_name": "Python 3"
    },
    "language_info": {
      "name": "python"
    }
  },
  "cells": [
    {
      "cell_type": "code",
      "execution_count": null,
      "metadata": {
        "colab": {
          "base_uri": "https://localhost:8080/"
        },
        "id": "6ynqoLEw_gPU",
        "outputId": "fb8001c5-f9a4-44f8-e06e-f97716f4afec"
      },
      "outputs": [
        {
          "output_type": "stream",
          "name": "stdout",
          "text": [
            "Mounted at /content/drive\n"
          ]
        }
      ],
      "source": [
        "from google.colab import drive\n",
        "drive.mount('/content/drive', force_remount=True)"
      ]
    },
    {
      "cell_type": "code",
      "source": [
        "train_dir = '/content/drive/MyDrive/COVID-19 Chest X-ray Image Dataset/train'\n",
        "test_dir = '/content/drive/MyDrive/COVID-19 Chest X-ray Image Dataset/test'"
      ],
      "metadata": {
        "id": "yVeA9aHy_qqC"
      },
      "execution_count": null,
      "outputs": []
    },
    {
      "cell_type": "code",
      "source": [
        "import os\n",
        "print(len(os.listdir('/content/drive/MyDrive/COVID-19 Chest X-ray Image Dataset/train/covid')))\n",
        "print(len(os.listdir('/content/drive/MyDrive/COVID-19 Chest X-ray Image Dataset/train/normal')))\n",
        "print(len(os.listdir('/content/drive/MyDrive/COVID-19 Chest X-ray Image Dataset/test/covid')))\n",
        "print(len(os.listdir('/content/drive/MyDrive/COVID-19 Chest X-ray Image Dataset/test/normal')))"
      ],
      "metadata": {
        "colab": {
          "base_uri": "https://localhost:8080/"
        },
        "id": "Dxojoy5K_sHh",
        "outputId": "b54d6dc0-1a8c-41cc-f2cb-1c5a1e34e41d"
      },
      "execution_count": null,
      "outputs": [
        {
          "output_type": "stream",
          "name": "stdout",
          "text": [
            "300\n",
            "260\n",
            "100\n",
            "100\n"
          ]
        }
      ]
    },
    {
      "cell_type": "code",
      "source": [
        "import tensorflow as tf\n",
        "from tensorflow.keras.preprocessing.image import ImageDataGenerator\n",
        "\n",
        "# Create ImageDataGenerator for training set\n",
        "train_datagen = ImageDataGenerator(\n",
        "    rescale=1./255,\n",
        "    validation_split=0.2  # Split 20% of the images for validation\n",
        ")\n",
        "\n",
        "# Load and prepare training data\n",
        "train_data = train_datagen.flow_from_directory(\n",
        "    train_dir,\n",
        "    target_size=(256,256),\n",
        "    batch_size=32,\n",
        "    class_mode='binary',  # 'binary' for binary classification\n",
        "    subset='training'  # Specify 'training' for the training set\n",
        ")\n",
        "\n",
        "# Create ImageDataGenerator for validation set\n",
        "validation_datagen = ImageDataGenerator(\n",
        "    rescale=1./255,\n",
        "    validation_split=0.2  # Note: Using the same validation split as in the training set\n",
        ")\n",
        "\n",
        "# Load and prepare validation data\n",
        "validation_data = validation_datagen.flow_from_directory(\n",
        "    train_dir,\n",
        "    target_size=(256,256),\n",
        "    batch_size=32,\n",
        "    class_mode='binary',\n",
        "    subset='validation'  # Specify 'validation' for the validation set\n",
        ")"
      ],
      "metadata": {
        "colab": {
          "base_uri": "https://localhost:8080/"
        },
        "id": "kZdz2PCKDQ9-",
        "outputId": "67746e73-207f-468a-edca-308452a6c65e"
      },
      "execution_count": null,
      "outputs": [
        {
          "output_type": "stream",
          "name": "stdout",
          "text": [
            "Found 448 images belonging to 2 classes.\n",
            "Found 110 images belonging to 2 classes.\n"
          ]
        }
      ]
    },
    {
      "cell_type": "code",
      "source": [
        "from tensorflow import keras\n",
        "from keras import Sequential\n",
        "from keras.layers import Dense,Conv2D,MaxPooling2D,Flatten,BatchNormalization,UpSampling2D, Dropout"
      ],
      "metadata": {
        "id": "bR3HlPxEEKmf"
      },
      "execution_count": null,
      "outputs": []
    },
    {
      "cell_type": "code",
      "source": [
        "# create CNN model\n",
        "\n",
        "model = Sequential()\n",
        "\n",
        "model.add(Conv2D(32,kernel_size=(3,3),padding='valid',activation='relu',input_shape=(256,256,3)))  # 32 filters\n",
        "#model.add(BatchNormalization())  # added to reduce overfitting\n",
        "model.add(MaxPooling2D(pool_size=(2,2),strides=2,padding='valid'))\n",
        "\n",
        "model.add(Conv2D(64,kernel_size=(3,3),padding='valid',activation='relu'))\n",
        "#model.add(BatchNormalization())  # added to reduce overfitting\n",
        "model.add(MaxPooling2D(pool_size=(2,2),strides=2,padding='valid'))\n",
        "\n",
        "model.add(Conv2D(128,kernel_size=(3,3),padding='valid',activation='relu'))\n",
        "#model.add(BatchNormalization())  # added to reduce overfitting\n",
        "model.add(MaxPooling2D(pool_size=(2,2),strides=2,padding='valid'))\n",
        "\n",
        "model.add(Flatten())\n",
        "\n",
        "model.add(Dense(128,activation='relu')) #feature reduction\n",
        "#model.add(Dropout(0.1))  # added to reduce overfitting\n",
        "model.add(Dense(64,activation='relu'))\n",
        "#model.add(Dropout(0.1))  # added to reduce overfitting\n",
        "model.add(Dense(1,activation='sigmoid'))  #output layer"
      ],
      "metadata": {
        "id": "WXKO8mX3EQPI"
      },
      "execution_count": null,
      "outputs": []
    },
    {
      "cell_type": "code",
      "source": [
        "from keras.optimizers import Adam\n",
        "model.compile(optimizer=Adam(learning_rate=0.001),loss='binary_crossentropy',metrics=['accuracy']) #binary_crossentropy - binary classification"
      ],
      "metadata": {
        "id": "4tL0JXsJEsQs"
      },
      "execution_count": null,
      "outputs": []
    },
    {
      "cell_type": "code",
      "source": [
        "history = model.fit(train_data, epochs=15, validation_data=validation_data)"
      ],
      "metadata": {
        "colab": {
          "base_uri": "https://localhost:8080/"
        },
        "id": "psATP6buEvWI",
        "outputId": "15357f65-aa39-464f-fe80-ede7040239da"
      },
      "execution_count": null,
      "outputs": [
        {
          "output_type": "stream",
          "name": "stdout",
          "text": [
            "Epoch 1/15\n",
            "14/14 [==============================] - 74s 5s/step - loss: 0.9997 - accuracy: 0.5268 - val_loss: 0.5921 - val_accuracy: 0.6091\n",
            "Epoch 2/15\n",
            "14/14 [==============================] - 76s 5s/step - loss: 0.5883 - accuracy: 0.7143 - val_loss: 0.2982 - val_accuracy: 0.9182\n",
            "Epoch 3/15\n",
            "14/14 [==============================] - 70s 5s/step - loss: 0.4299 - accuracy: 0.8036 - val_loss: 0.3226 - val_accuracy: 0.8455\n",
            "Epoch 4/15\n",
            "14/14 [==============================] - 70s 5s/step - loss: 0.4222 - accuracy: 0.8080 - val_loss: 0.3751 - val_accuracy: 0.8818\n",
            "Epoch 5/15\n",
            "14/14 [==============================] - 75s 5s/step - loss: 0.3299 - accuracy: 0.8661 - val_loss: 0.3328 - val_accuracy: 0.8727\n",
            "Epoch 6/15\n",
            "14/14 [==============================] - 75s 5s/step - loss: 0.2764 - accuracy: 0.8884 - val_loss: 0.3469 - val_accuracy: 0.9000\n",
            "Epoch 7/15\n",
            "14/14 [==============================] - 71s 5s/step - loss: 0.2126 - accuracy: 0.9152 - val_loss: 0.2957 - val_accuracy: 0.9000\n",
            "Epoch 8/15\n",
            "14/14 [==============================] - 71s 5s/step - loss: 0.1747 - accuracy: 0.9196 - val_loss: 0.4406 - val_accuracy: 0.8364\n",
            "Epoch 9/15\n",
            "14/14 [==============================] - 72s 5s/step - loss: 0.1422 - accuracy: 0.9487 - val_loss: 0.3357 - val_accuracy: 0.9091\n",
            "Epoch 10/15\n",
            "14/14 [==============================] - 70s 5s/step - loss: 0.1120 - accuracy: 0.9554 - val_loss: 0.2917 - val_accuracy: 0.9000\n",
            "Epoch 11/15\n",
            "14/14 [==============================] - 71s 5s/step - loss: 0.0734 - accuracy: 0.9665 - val_loss: 0.4167 - val_accuracy: 0.8636\n",
            "Epoch 12/15\n",
            "14/14 [==============================] - 76s 5s/step - loss: 0.0770 - accuracy: 0.9732 - val_loss: 0.6240 - val_accuracy: 0.8545\n",
            "Epoch 13/15\n",
            "14/14 [==============================] - 76s 5s/step - loss: 0.0597 - accuracy: 0.9821 - val_loss: 0.5991 - val_accuracy: 0.8636\n",
            "Epoch 14/15\n",
            "14/14 [==============================] - 74s 5s/step - loss: 0.0530 - accuracy: 0.9799 - val_loss: 0.5873 - val_accuracy: 0.8818\n",
            "Epoch 15/15\n",
            "14/14 [==============================] - 76s 5s/step - loss: 0.0406 - accuracy: 0.9821 - val_loss: 0.6316 - val_accuracy: 0.9000\n"
          ]
        }
      ]
    },
    {
      "cell_type": "code",
      "source": [
        "import matplotlib.pyplot as plt\n",
        "\n",
        "plt.plot(history.history['accuracy'],color='red',label='train')\n",
        "plt.plot(history.history['val_accuracy'],color='blue',label='validation')\n",
        "plt.legend()\n",
        "plt.show()\n",
        "model.evaluate(train_data)"
      ],
      "metadata": {
        "colab": {
          "base_uri": "https://localhost:8080/",
          "height": 467
        },
        "id": "I0j3loXVRVnv",
        "outputId": "c2059878-0086-415e-fa1d-c81875e91bb7"
      },
      "execution_count": null,
      "outputs": [
        {
          "output_type": "display_data",
          "data": {
            "text/plain": [
              "<Figure size 640x480 with 1 Axes>"
            ],
            "image/png": "[encoded data removed]"
          },
          "metadata": {}
        },
        {
          "output_type": "stream",
          "name": "stdout",
          "text": [
            "14/14 [==============================] - 27s 2s/step - loss: 0.0079 - accuracy: 1.0000\n"
          ]
        },
        {
          "output_type": "execute_result",
          "data": {
            "text/plain": [
              "[0.007923590019345284, 1.0]"
            ]
          },
          "metadata": {},
          "execution_count": 37
        }
      ]
    },
    {
      "cell_type": "code",
      "source": [
        "plt.plot(history.history['loss'],color='red',label='train')\n",
        "plt.plot(history.history['val_loss'],color='blue',label='validation')\n",
        "plt.legend()\n",
        "plt.show()"
      ],
      "metadata": {
        "colab": {
          "base_uri": "https://localhost:8080/",
          "height": 430
        },
        "id": "FUJ90HUXRjX8",
        "outputId": "6e56947f-2f22-4023-c650-6c31c2b0d5a2"
      },
      "execution_count": null,
      "outputs": [
        {
          "output_type": "display_data",
          "data": {
            "text/plain": [
              "<Figure size 640x480 with 1 Axes>"
            ],
            "image/png": "[encoded data removed]"
          },
          "metadata": {}
        }
      ]
    },
    {
      "cell_type": "code",
      "source": [
        "model.evaluate(validation_data)"
      ],
      "metadata": {
        "colab": {
          "base_uri": "https://localhost:8080/"
        },
        "id": "5Cg5hY1DRln9",
        "outputId": "87af8457-8aa4-40db-96dd-0785404d8994"
      },
      "execution_count": null,
      "outputs": [
        {
          "output_type": "stream",
          "name": "stdout",
          "text": [
            "4/4 [==============================] - 7s 1s/step - loss: 0.6316 - accuracy: 0.9000\n"
          ]
        },
        {
          "output_type": "execute_result",
          "data": {
            "text/plain": [
              "[0.6315961480140686, 0.8999999761581421]"
            ]
          },
          "metadata": {},
          "execution_count": 39
        }
      ]
    },
    {
      "cell_type": "code",
      "source": [
        "test_datagen = ImageDataGenerator(rescale=1./255)\n",
        "test_data = test_datagen.flow_from_directory(\n",
        "    test_dir,\n",
        "    target_size=(256,256),\n",
        "    batch_size=32,\n",
        "    class_mode='binary'\n",
        ")"
      ],
      "metadata": {
        "colab": {
          "base_uri": "https://localhost:8080/"
        },
        "id": "sEKuOh1UYj6J",
        "outputId": "fa5340a3-7d9d-4e6c-8a17-e7d8ed7d8d22"
      },
      "execution_count": null,
      "outputs": [
        {
          "output_type": "stream",
          "name": "stdout",
          "text": [
            "Found 200 images belonging to 2 classes.\n"
          ]
        }
      ]
    },
    {
      "cell_type": "code",
      "source": [
        "predictions = model.predict(test_data)\n",
        "print(predictions)"
      ],
      "metadata": {
        "colab": {
          "base_uri": "https://localhost:8080/"
        },
        "id": "R8u1L_CAYmlc",
        "outputId": "e0f28ecd-2945-4d1d-e743-e59db0d6ef32"
      },
      "execution_count": null,
      "outputs": [
        {
          "output_type": "stream",
          "name": "stdout",
          "text": [
            "7/7 [==============================] - 25s 4s/step\n",
            "[[6.6525237e-05]\n",
            " [2.5630474e-05]\n",
            " [1.0000000e+00]\n",
            " [9.9999654e-01]\n",
            " [9.6837831e-01]\n",
            " [2.4915719e-04]\n",
            " [4.3882715e-06]\n",
            " [7.4438699e-02]\n",
            " [2.8715341e-04]\n",
            " [1.0000000e+00]\n",
            " [1.0000000e+00]\n",
            " [1.0000000e+00]\n",
            " [1.0000000e+00]\n",
            " [1.0000000e+00]\n",
            " [1.0000000e+00]\n",
            " [1.0000000e+00]\n",
            " [1.0000000e+00]\n",
            " [1.0000000e+00]\n",
            " [1.3171056e-07]\n",
            " [1.1049772e-06]\n",
            " [1.0000000e+00]\n",
            " [3.0328755e-04]\n",
            " [9.9999994e-01]\n",
            " [1.0000000e+00]\n",
            " [9.9996674e-01]\n",
            " [2.8732035e-07]\n",
            " [1.0000000e+00]\n",
            " [1.0000000e+00]\n",
            " [2.1652257e-04]\n",
            " [9.6519881e-01]\n",
            " [1.7507318e-02]\n",
            " [1.6750166e-05]\n",
            " [1.6003947e-06]\n",
            " [1.0000000e+00]\n",
            " [9.6688429e-03]\n",
            " [1.0000000e+00]\n",
            " [9.9999946e-01]\n",
            " [1.0000000e+00]\n",
            " [1.0000000e+00]\n",
            " [1.0000000e+00]\n",
            " [1.0000000e+00]\n",
            " [1.0000000e+00]\n",
            " [1.0000000e+00]\n",
            " [1.0000000e+00]\n",
            " [1.4318319e-07]\n",
            " [7.2501660e-07]\n",
            " [7.5957847e-01]\n",
            " [9.9999726e-01]\n",
            " [9.8937024e-05]\n",
            " [1.3886657e-01]\n",
            " [2.9110940e-02]\n",
            " [9.9999750e-01]\n",
            " [9.9999988e-01]\n",
            " [9.2457646e-01]\n",
            " [9.9999994e-01]\n",
            " [1.1432704e-01]\n",
            " [8.8665826e-04]\n",
            " [3.8236135e-07]\n",
            " [9.2942528e-02]\n",
            " [1.5370710e-03]\n",
            " [1.3086345e-06]\n",
            " [1.0000000e+00]\n",
            " [1.3221501e-01]\n",
            " [9.9999994e-01]\n",
            " [5.0507598e-03]\n",
            " [1.0000000e+00]\n",
            " [1.0000000e+00]\n",
            " [3.4429159e-02]\n",
            " [1.4728391e-07]\n",
            " [1.0000000e+00]\n",
            " [3.2147299e-02]\n",
            " [9.9999982e-01]\n",
            " [9.9999940e-01]\n",
            " [1.0000000e+00]\n",
            " [1.0000000e+00]\n",
            " [6.3575469e-02]\n",
            " [3.8903064e-04]\n",
            " [9.8065227e-01]\n",
            " [4.5379356e-06]\n",
            " [1.0000000e+00]\n",
            " [2.1602650e-06]\n",
            " [8.9076006e-01]\n",
            " [1.5512324e-13]\n",
            " [1.0858585e-02]\n",
            " [1.0000000e+00]\n",
            " [1.0000000e+00]\n",
            " [7.9635302e-06]\n",
            " [8.6572057e-01]\n",
            " [9.9964923e-01]\n",
            " [1.0000000e+00]\n",
            " [1.7335502e-03]\n",
            " [9.9731761e-01]\n",
            " [1.0000000e+00]\n",
            " [1.0000000e+00]\n",
            " [9.9999988e-01]\n",
            " [1.0000000e+00]\n",
            " [2.4242963e-06]\n",
            " [9.9974585e-01]\n",
            " [1.0000000e+00]\n",
            " [1.0000000e+00]\n",
            " [4.6449117e-02]\n",
            " [1.6968638e-01]\n",
            " [8.2901570e-05]\n",
            " [5.3425101e-06]\n",
            " [5.1175357e-05]\n",
            " [2.2263926e-07]\n",
            " [1.0000000e+00]\n",
            " [1.0086941e-01]\n",
            " [3.1510464e-07]\n",
            " [1.3968187e-09]\n",
            " [1.0000000e+00]\n",
            " [9.0709026e-04]\n",
            " [1.0000000e+00]\n",
            " [2.5272065e-01]\n",
            " [5.6610923e-05]\n",
            " [1.0000000e+00]\n",
            " [5.5996903e-08]\n",
            " [1.0000000e+00]\n",
            " [5.3957494e-05]\n",
            " [8.6174502e-08]\n",
            " [7.4457415e-07]\n",
            " [6.8159131e-03]\n",
            " [2.8248334e-03]\n",
            " [1.1133835e-02]\n",
            " [1.0000000e+00]\n",
            " [2.6589949e-04]\n",
            " [5.1592525e-07]\n",
            " [1.0000000e+00]\n",
            " [1.0000000e+00]\n",
            " [1.0000000e+00]\n",
            " [1.0000000e+00]\n",
            " [6.0142338e-06]\n",
            " [1.0000000e+00]\n",
            " [5.7688206e-01]\n",
            " [2.1822306e-03]\n",
            " [7.6969076e-07]\n",
            " [1.0000000e+00]\n",
            " [1.0000000e+00]\n",
            " [3.5544048e-04]\n",
            " [9.9998444e-01]\n",
            " [7.1813173e-07]\n",
            " [1.0000000e+00]\n",
            " [1.0000000e+00]\n",
            " [1.1341156e-06]\n",
            " [1.0000000e+00]\n",
            " [1.0000000e+00]\n",
            " [1.7895460e-02]\n",
            " [6.3608932e-05]\n",
            " [1.0000000e+00]\n",
            " [1.0000000e+00]\n",
            " [7.2311481e-14]\n",
            " [1.0000000e+00]\n",
            " [7.7447787e-02]\n",
            " [1.9162508e-04]\n",
            " [9.8652762e-01]\n",
            " [9.9999946e-01]\n",
            " [1.0000000e+00]\n",
            " [9.9999994e-01]\n",
            " [2.6810922e-06]\n",
            " [2.4400883e-08]\n",
            " [3.3042225e-04]\n",
            " [1.0000000e+00]\n",
            " [5.0147045e-01]\n",
            " [1.0000000e+00]\n",
            " [1.0000000e+00]\n",
            " [1.0000000e+00]\n",
            " [1.0000000e+00]\n",
            " [2.6201858e-05]\n",
            " [1.0000000e+00]\n",
            " [1.6615213e-03]\n",
            " [3.0328755e-04]\n",
            " [1.0000000e+00]\n",
            " [1.0000000e+00]\n",
            " [1.0000000e+00]\n",
            " [7.7569261e-02]\n",
            " [9.9999905e-01]\n",
            " [1.0000000e+00]\n",
            " [1.0000000e+00]\n",
            " [9.9999988e-01]\n",
            " [1.9209340e-02]\n",
            " [1.0000000e+00]\n",
            " [4.5423262e-06]\n",
            " [6.6776830e-01]\n",
            " [6.1581966e-05]\n",
            " [7.9835993e-01]\n",
            " [1.0000000e+00]\n",
            " [1.0000000e+00]\n",
            " [8.8872574e-02]\n",
            " [2.0107832e-03]\n",
            " [9.9999946e-01]\n",
            " [1.5354648e-03]\n",
            " [9.9999946e-01]\n",
            " [1.0000000e+00]\n",
            " [3.6067390e-04]\n",
            " [1.0000000e+00]\n",
            " [1.0000000e+00]\n",
            " [1.4828604e-02]\n",
            " [1.0000000e+00]\n",
            " [1.3860068e-06]\n",
            " [2.1493674e-06]]\n"
          ]
        }
      ]
    },
    {
      "cell_type": "code",
      "source": [
        "len(predictions)"
      ],
      "metadata": {
        "colab": {
          "base_uri": "https://localhost:8080/"
        },
        "id": "3DK_AIFEZEne",
        "outputId": "6c9879ad-32c9-4c18-dba2-cda658e8617e"
      },
      "execution_count": null,
      "outputs": [
        {
          "output_type": "execute_result",
          "data": {
            "text/plain": [
              "200"
            ]
          },
          "metadata": {},
          "execution_count": 45
        }
      ]
    },
    {
      "cell_type": "code",
      "source": [
        "from sklearn.metrics import confusion_matrix, classification_report\n",
        "\n",
        "# Assuming you have ground truth labels (true_labels) and predicted labels (predictions)\n",
        "true_labels = test_data.classes\n",
        "predicted_labels = (predictions > 0.5).astype(int)  # Adjust the threshold as needed\n",
        "\n",
        "#Define class labels\n",
        "class_labels = ['Covid', 'Normal']\n",
        "\n",
        "# Calculate confusion matrix\n",
        "cm = confusion_matrix(true_labels, predicted_labels)\n",
        "\n",
        "# Print confusion matrix\n",
        "print(\"Confusion Matrix:\")\n",
        "print(cm)\n",
        "\n",
        "# Print classification report\n",
        "print(\"Classification Report:\")\n",
        "print(classification_report(true_labels, predicted_labels))"
      ],
      "metadata": {
        "colab": {
          "base_uri": "https://localhost:8080/"
        },
        "id": "-UBK86NnYxYx",
        "outputId": "74aa032d-baac-443c-8911-53835a3c5604"
      },
      "execution_count": null,
      "outputs": [
        {
          "output_type": "stream",
          "name": "stdout",
          "text": [
            "Confusion Matrix:\n",
            "[[40 60]\n",
            " [49 51]]\n",
            "Classification Report:\n",
            "              precision    recall  f1-score   support\n",
            "\n",
            "           0       0.45      0.40      0.42       100\n",
            "           1       0.46      0.51      0.48       100\n",
            "\n",
            "    accuracy                           0.46       200\n",
            "   macro avg       0.45      0.46      0.45       200\n",
            "weighted avg       0.45      0.46      0.45       200\n",
            "\n"
          ]
        }
      ]
    },
    {
      "cell_type": "code",
      "source": [
        "import seaborn as sns\n",
        "plt.figure(figsize=(10,10))\n",
        "sns.heatmap(cm, cmap='Blues', linecolor='black', linewidth=1, annot=True, fmt='', xticklabels=class_labels, yticklabels=class_labels)\n",
        "plt.show()"
      ],
      "metadata": {
        "colab": {
          "base_uri": "https://localhost:8080/",
          "height": 836
        },
        "id": "4opLa_D-aABm",
        "outputId": "66e7d722-018c-42b4-9a03-70d1009e43c5"
      },
      "execution_count": null,
      "outputs": [
        {
          "output_type": "display_data",
          "data": {
            "text/plain": [
              "<Figure size 1000x1000 with 2 Axes>"
            ],
            "image/png": "[encoded data removed]"
          },
          "metadata": {}
        }
      ]
    }
  ]
}
{
  "nbformat": 4,
  "nbformat_minor": 0,
  "metadata": {
    "colab": {
      "provenance": []
    },
    "kernelspec": {
      "name": "python3",
      "display_name": "Python 3"
    },
    "language_info": {
      "name": "python"
    }
  },
  "cells": [
    {
      "cell_type": "code",
      "execution_count": null,
      "metadata": {
        "colab": {
          "base_uri": "https://localhost:8080/"
        },
        "id": "nEVa66PFaT-7",
        "outputId": "5f5455bf-bf10-4f3e-8b31-52aacce773a8"
      },
      "outputs": [
        {
          "output_type": "stream",
          "name": "stdout",
          "text": [
            "Mounted at /content/drive\n"
          ]
        }
      ],
      "source": [
        "#My dataset is available in googledrive; so I am accessing my drive from colab\n",
        "from google.colab import drive\n",
        "drive.mount('/content/drive', force_remount=True)"
      ]
    },
    {
      "cell_type": "code",
      "source": [
        "train_dir = '/content/drive/MyDrive/COVID-19 Chest X-ray Image Dataset/train'\n",
        "test_dir = '/content/drive/MyDrive/COVID-19 Chest X-ray Image Dataset/test'"
      ],
      "metadata": {
        "id": "s8IDQZRBcM1N"
      },
      "execution_count": null,
      "outputs": []
    },
    {
      "cell_type": "code",
      "source": [
        "import os\n",
        "print(len(os.listdir('/content/drive/MyDrive/COVID-19 Chest X-ray Image Dataset/train/covid')))\n",
        "print(len(os.listdir('/content/drive/MyDrive/COVID-19 Chest X-ray Image Dataset/train/normal')))\n",
        "print(len(os.listdir('/content/drive/MyDrive/COVID-19 Chest X-ray Image Dataset/test/covid')))\n",
        "print(len(os.listdir('/content/drive/MyDrive/COVID-19 Chest X-ray Image Dataset/test/normal')))"
      ],
      "metadata": {
        "colab": {
          "base_uri": "https://localhost:8080/"
        },
        "id": "UBotarL4cQA6",
        "outputId": "4c968d0e-49cb-4fde-adbe-997e3cbfe3ee"
      },
      "execution_count": null,
      "outputs": [
        {
          "output_type": "stream",
          "name": "stdout",
          "text": [
            "200\n",
            "200\n",
            "100\n",
            "100\n"
          ]
        }
      ]
    },
    {
      "cell_type": "code",
      "source": [
        "import tensorflow as tf\n",
        "from tensorflow.keras.preprocessing.image import ImageDataGenerator\n",
        "\n",
        "# Create ImageDataGenerator for training set\n",
        "train_datagen = ImageDataGenerator(\n",
        "    rescale=1./255,\n",
        "    validation_split=0.2  # Split 20% of the images for validation\n",
        ")\n",
        "\n",
        "# Load and prepare training data\n",
        "train_data = train_datagen.flow_from_directory(\n",
        "    train_dir,\n",
        "    target_size=(256,256),\n",
        "    batch_size=32,\n",
        "    class_mode='binary',  # 'binary' for binary classification (covid vs. normal)\n",
        "    subset='training'  # Specify 'training' for the training set\n",
        ")\n",
        "\n",
        "# Create ImageDataGenerator for validation set\n",
        "validation_datagen = ImageDataGenerator(\n",
        "    rescale=1./255,\n",
        "    validation_split=0.2  # Note: Using the same validation split as in the training set\n",
        ")\n",
        "\n",
        "# Load and prepare validation data\n",
        "validation_data = validation_datagen.flow_from_directory(\n",
        "    train_dir,\n",
        "    target_size=(256,256),\n",
        "    batch_size=32,\n",
        "    class_mode='binary',\n",
        "    subset='validation'  # Specify 'validation' for the validation set\n",
        ")"
      ],
      "metadata": {
        "colab": {
          "base_uri": "https://localhost:8080/"
        },
        "id": "Cz48dhVxcTrZ",
        "outputId": "732874b4-0d76-4a11-d0dc-c8ec0a1d30c3"
      },
      "execution_count": null,
      "outputs": [
        {
          "output_type": "stream",
          "name": "stdout",
          "text": [
            "Found 320 images belonging to 2 classes.\n",
            "Found 80 images belonging to 2 classes.\n"
          ]
        }
      ]
    },
    {
      "cell_type": "code",
      "source": [
        "from tensorflow import keras\n",
        "from keras import Sequential\n",
        "from keras.layers import Dense,Conv2D,MaxPooling2D,Flatten\n",
        "\n",
        "resnet_model = Sequential()    #ResNet50 is a pre-trained model\n",
        "pretrained_model = tf.keras.applications.ResNet50(\n",
        "    include_top = False, #because i have my own image of a diff dimension\n",
        "    input_shape = (256,256,3),\n",
        "    pooling = 'max', classes = 2,\n",
        "    weights = 'imagenet'\n",
        "    )\n",
        "\n",
        "for layer in pretrained_model.layers:\n",
        "    layer.trainable = False  #all layers in the Resnet50 are not trainable; keep those weights; I am going to add my own i/p and other layers\n",
        "\n",
        "resnet_model.add(pretrained_model)\n",
        "resnet_model.add(Flatten())\n",
        "resnet_model.add(Dense(512, activation = 'relu'))\n",
        "resnet_model.add(Dense(1, activation = 'sigmoid'))"
      ],
      "metadata": {
        "colab": {
          "base_uri": "https://localhost:8080/"
        },
        "id": "BWFzS_dtdObG",
        "outputId": "1e4c6121-4758-41ec-91cf-dcb16b187774"
      },
      "execution_count": null,
      "outputs": [
        {
          "output_type": "stream",
          "name": "stdout",
          "text": [
            "Downloading data from https://storage.googleapis.com/tensorflow/keras-applications/resnet/resnet50_weights_tf_dim_ordering_tf_kernels_notop.h5\n",
            "94765736/94765736 [==============================] - 1s 0us/step\n"
          ]
        }
      ]
    },
    {
      "cell_type": "code",
      "source": [
        "resnet_model.summary()"
      ],
      "metadata": {
        "colab": {
          "base_uri": "https://localhost:8080/"
        },
        "id": "CcDA2w4Ydijk",
        "outputId": "98d2b596-e9e2-4b4c-f806-10502b67b488"
      },
      "execution_count": null,
      "outputs": [
        {
          "output_type": "stream",
          "name": "stdout",
          "text": [
            "Model: \"sequential\"\n",
            "_________________________________________________________________\n",
            " Layer (type)                Output Shape              Param #   \n",
            "=================================================================\n",
            " resnet50 (Functional)       (None, 2048)              23587712  \n",
            "                                                                 \n",
            " flatten (Flatten)           (None, 2048)              0         \n",
            "                                                                 \n",
            " dense (Dense)               (None, 512)               1049088   \n",
            "                                                                 \n",
            " dense_1 (Dense)             (None, 1)                 513       \n",
            "                                                                 \n",
            "=================================================================\n",
            "Total params: 24637313 (93.98 MB)\n",
            "Trainable params: 1049601 (4.00 MB)\n",
            "Non-trainable params: 23587712 (89.98 MB)\n",
            "_________________________________________________________________\n"
          ]
        }
      ]
    },
    {
      "cell_type": "code",
      "source": [
        "from keras.optimizers import Adam\n",
        "resnet_model.compile(optimizer=Adam(learning_rate=0.001),loss='binary_crossentropy',metrics=['accuracy']) #binary_crossentropy - binary classification"
      ],
      "metadata": {
        "id": "OhZ9hslndoj3"
      },
      "execution_count": null,
      "outputs": []
    },
    {
      "cell_type": "code",
      "source": [
        "history = resnet_model.fit(train_data, epochs=11, validation_data=validation_data)"
      ],
      "metadata": {
        "colab": {
          "base_uri": "https://localhost:8080/"
        },
        "id": "Fbq2MuDBdrQN",
        "outputId": "caa5ad82-ae2c-4bce-e439-bd243d3a891f"
      },
      "execution_count": null,
      "outputs": [
        {
          "output_type": "stream",
          "name": "stdout",
          "text": [
            "Epoch 1/11\n",
            "10/10 [==============================] - 138s 14s/step - loss: 0.6029 - accuracy: 0.6656 - val_loss: 0.3858 - val_accuracy: 0.8000\n",
            "Epoch 2/11\n",
            "10/10 [==============================] - 138s 14s/step - loss: 0.5933 - accuracy: 0.6812 - val_loss: 0.4460 - val_accuracy: 0.6375\n",
            "Epoch 3/11\n",
            "10/10 [==============================] - 134s 14s/step - loss: 0.5561 - accuracy: 0.6781 - val_loss: 0.2194 - val_accuracy: 0.9875\n",
            "Epoch 4/11\n",
            "10/10 [==============================] - 137s 14s/step - loss: 0.4215 - accuracy: 0.8281 - val_loss: 0.2200 - val_accuracy: 1.0000\n",
            "Epoch 5/11\n",
            "10/10 [==============================] - 133s 14s/step - loss: 0.4689 - accuracy: 0.7937 - val_loss: 0.2101 - val_accuracy: 0.9500\n",
            "Epoch 6/11\n",
            "10/10 [==============================] - 138s 14s/step - loss: 0.4897 - accuracy: 0.7469 - val_loss: 0.2388 - val_accuracy: 1.0000\n",
            "Epoch 7/11\n",
            "10/10 [==============================] - 119s 12s/step - loss: 0.4681 - accuracy: 0.7844 - val_loss: 0.1712 - val_accuracy: 0.9625\n",
            "Epoch 8/11\n",
            "10/10 [==============================] - 139s 14s/step - loss: 0.4211 - accuracy: 0.8062 - val_loss: 0.2014 - val_accuracy: 1.0000\n",
            "Epoch 9/11\n",
            "10/10 [==============================] - 137s 14s/step - loss: 0.4221 - accuracy: 0.8031 - val_loss: 0.2577 - val_accuracy: 0.8875\n",
            "Epoch 10/11\n",
            "10/10 [==============================] - 120s 12s/step - loss: 0.5531 - accuracy: 0.7375 - val_loss: 0.4347 - val_accuracy: 0.6750\n",
            "Epoch 11/11\n",
            "10/10 [==============================] - 137s 14s/step - loss: 0.4665 - accuracy: 0.7719 - val_loss: 0.1434 - val_accuracy: 0.9625\n"
          ]
        }
      ]
    },
    {
      "cell_type": "code",
      "source": [
        "import matplotlib.pyplot as plt\n",
        "\n",
        "plt.plot(history.history['accuracy'],color='red',label='train')\n",
        "plt.plot(history.history['val_accuracy'],color='blue',label='validation')\n",
        "plt.legend()\n",
        "plt.show()"
      ],
      "metadata": {
        "colab": {
          "base_uri": "https://localhost:8080/",
          "height": 430
        },
        "id": "31AhkNJIo814",
        "outputId": "bc5baf80-2827-4b55-e438-be71df0fd9f2"
      },
      "execution_count": null,
      "outputs": [
        {
          "output_type": "display_data",
          "data": {
            "text/plain": [
              "<Figure size 640x480 with 1 Axes>"
            ],
            "image/png": "[encoded data removed]"
          },
          "metadata": {}
        }
      ]
    },
    {
      "cell_type": "code",
      "source": [
        "plt.plot(history.history['loss'],color='red',label='train')\n",
        "plt.plot(history.history['val_loss'],color='blue',label='validation')\n",
        "plt.legend()\n",
        "plt.show()"
      ],
      "metadata": {
        "colab": {
          "base_uri": "https://localhost:8080/",
          "height": 430
        },
        "id": "lubrPyXgpCaL",
        "outputId": "0efa334a-0fe7-45f6-bfab-1ca7424a6b99"
      },
      "execution_count": null,
      "outputs": [
        {
          "output_type": "display_data",
          "data": {
            "text/plain": [
              "<Figure size 640x480 with 1 Axes>"
            ],
            "image/png": "[encoded data removed]"
          },
          "metadata": {}
        }
      ]
    },
    {
      "cell_type": "code",
      "source": [
        "resnet_model.evaluate(train_data)"
      ],
      "metadata": {
        "colab": {
          "base_uri": "https://localhost:8080/"
        },
        "id": "6dRqdDcYpEov",
        "outputId": "f7b06409-4962-4b5e-9a4e-4a06aa9de124"
      },
      "execution_count": null,
      "outputs": [
        {
          "output_type": "stream",
          "name": "stdout",
          "text": [
            "10/10 [==============================] - 105s 10s/step - loss: 0.4020 - accuracy: 0.8438\n"
          ]
        },
        {
          "output_type": "execute_result",
          "data": {
            "text/plain": [
              "[0.4019721448421478, 0.84375]"
            ]
          },
          "metadata": {},
          "execution_count": 23
        }
      ]
    },
    {
      "cell_type": "code",
      "source": [
        "resnet_model.evaluate(validation_data)"
      ],
      "metadata": {
        "colab": {
          "base_uri": "https://localhost:8080/"
        },
        "id": "JUPbp8ucpNND",
        "outputId": "7507fe4c-9e2f-4ca7-8aee-5929ac279bf9"
      },
      "execution_count": null,
      "outputs": [
        {
          "output_type": "stream",
          "name": "stdout",
          "text": [
            "3/3 [==============================] - 25s 7s/step - loss: 0.1434 - accuracy: 0.9625\n"
          ]
        },
        {
          "output_type": "execute_result",
          "data": {
            "text/plain": [
              "[0.14343208074569702, 0.9624999761581421]"
            ]
          },
          "metadata": {},
          "execution_count": 24
        }
      ]
    },
    {
      "cell_type": "code",
      "source": [
        "test_datagen = ImageDataGenerator(rescale=1./255)\n",
        "test_data = test_datagen.flow_from_directory(\n",
        "    test_dir,\n",
        "    target_size=(256,256),\n",
        "    batch_size=32,\n",
        "    class_mode='binary'\n",
        ")"
      ],
      "metadata": {
        "colab": {
          "base_uri": "https://localhost:8080/"
        },
        "id": "RPKdwugkq57_",
        "outputId": "7979d495-1772-46df-aa24-a6e2e6222879"
      },
      "execution_count": null,
      "outputs": [
        {
          "output_type": "stream",
          "name": "stdout",
          "text": [
            "Found 200 images belonging to 2 classes.\n"
          ]
        }
      ]
    },
    {
      "cell_type": "code",
      "source": [
        "#predict the test data\n",
        "predictions = resnet_model.predict(test_data)\n",
        "print(predictions)"
      ],
      "metadata": {
        "colab": {
          "base_uri": "https://localhost:8080/"
        },
        "id": "1ZOMpuTPq662",
        "outputId": "b6915cb2-3880-4756-cc01-a2c9ce2db37c"
      },
      "execution_count": null,
      "outputs": [
        {
          "output_type": "stream",
          "name": "stdout",
          "text": [
            "7/7 [==============================] - 63s 8s/step\n",
            "[[0.95899683]\n",
            " [0.1342542 ]\n",
            " [0.05428929]\n",
            " [0.9597929 ]\n",
            " [0.09329594]\n",
            " [0.66283756]\n",
            " [0.911706  ]\n",
            " [0.13914198]\n",
            " [0.03832588]\n",
            " [0.1388038 ]\n",
            " [0.6537509 ]\n",
            " [0.8944551 ]\n",
            " [0.08738938]\n",
            " [0.86969215]\n",
            " [0.59678674]\n",
            " [0.8321666 ]\n",
            " [0.9001165 ]\n",
            " [0.11879308]\n",
            " [0.7602314 ]\n",
            " [0.9448842 ]\n",
            " [0.11209132]\n",
            " [0.07309056]\n",
            " [0.94801074]\n",
            " [0.9859594 ]\n",
            " [0.99487   ]\n",
            " [0.92601997]\n",
            " [0.04530326]\n",
            " [0.04627735]\n",
            " [0.05020808]\n",
            " [0.81799495]\n",
            " [0.05155603]\n",
            " [0.9338604 ]\n",
            " [0.6226376 ]\n",
            " [0.9732216 ]\n",
            " [0.09627446]\n",
            " [0.14807557]\n",
            " [0.04824459]\n",
            " [0.8901728 ]\n",
            " [0.8518201 ]\n",
            " [0.972936  ]\n",
            " [0.03850756]\n",
            " [0.92320186]\n",
            " [0.05252918]\n",
            " [0.02839047]\n",
            " [0.04638771]\n",
            " [0.55051047]\n",
            " [0.91413254]\n",
            " [0.14193584]\n",
            " [0.12293275]\n",
            " [0.2951582 ]\n",
            " [0.05231162]\n",
            " [0.8192306 ]\n",
            " [0.25071365]\n",
            " [0.0572737 ]\n",
            " [0.09269449]\n",
            " [0.9926966 ]\n",
            " [0.16467193]\n",
            " [0.06553392]\n",
            " [0.05097244]\n",
            " [0.9921123 ]\n",
            " [0.20498236]\n",
            " [0.08359551]\n",
            " [0.21442582]\n",
            " [0.09142909]\n",
            " [0.31233191]\n",
            " [0.9981824 ]\n",
            " [0.09298268]\n",
            " [0.9613498 ]\n",
            " [0.9868219 ]\n",
            " [0.1792285 ]\n",
            " [0.89098674]\n",
            " [0.05814641]\n",
            " [0.9257996 ]\n",
            " [0.0804185 ]\n",
            " [0.7830974 ]\n",
            " [0.7691233 ]\n",
            " [0.05699158]\n",
            " [0.03669138]\n",
            " [0.10991164]\n",
            " [0.97529626]\n",
            " [0.18266454]\n",
            " [0.5024793 ]\n",
            " [0.98207253]\n",
            " [0.07758099]\n",
            " [0.9661907 ]\n",
            " [0.10232291]\n",
            " [0.7475611 ]\n",
            " [0.9408067 ]\n",
            " [0.0819581 ]\n",
            " [0.5849995 ]\n",
            " [0.37579778]\n",
            " [0.46469703]\n",
            " [0.7547661 ]\n",
            " [0.8457825 ]\n",
            " [0.97083586]\n",
            " [0.13525073]\n",
            " [0.9695078 ]\n",
            " [0.16606848]\n",
            " [0.13886157]\n",
            " [0.9866545 ]\n",
            " [0.8338605 ]\n",
            " [0.05549323]\n",
            " [0.93739694]\n",
            " [0.80663055]\n",
            " [0.8693898 ]\n",
            " [0.15608251]\n",
            " [0.98956835]\n",
            " [0.0816085 ]\n",
            " [0.9813461 ]\n",
            " [0.82645625]\n",
            " [0.0674181 ]\n",
            " [0.19230023]\n",
            " [0.11538902]\n",
            " [0.1270475 ]\n",
            " [0.93342674]\n",
            " [0.18420032]\n",
            " [0.06687921]\n",
            " [0.90774477]\n",
            " [0.29608342]\n",
            " [0.07301898]\n",
            " [0.05363832]\n",
            " [0.07453506]\n",
            " [0.97281474]\n",
            " [0.9939288 ]\n",
            " [0.86683106]\n",
            " [0.4011863 ]\n",
            " [0.7785331 ]\n",
            " [0.99020743]\n",
            " [0.9391109 ]\n",
            " [0.80665207]\n",
            " [0.04506669]\n",
            " [0.9981328 ]\n",
            " [0.65963256]\n",
            " [0.06283058]\n",
            " [0.03675266]\n",
            " [0.9823507 ]\n",
            " [0.04378568]\n",
            " [0.46228623]\n",
            " [0.77497196]\n",
            " [0.93600863]\n",
            " [0.08358556]\n",
            " [0.9854298 ]\n",
            " [0.14188294]\n",
            " [0.92558134]\n",
            " [0.9482716 ]\n",
            " [0.15118837]\n",
            " [0.82487375]\n",
            " [0.14284432]\n",
            " [0.06176988]\n",
            " [0.04621938]\n",
            " [0.95473784]\n",
            " [0.8545162 ]\n",
            " [0.7546835 ]\n",
            " [0.06050853]\n",
            " [0.9253102 ]\n",
            " [0.9656874 ]\n",
            " [0.8945409 ]\n",
            " [0.97810495]\n",
            " [0.06427227]\n",
            " [0.0474739 ]\n",
            " [0.71466064]\n",
            " [0.9913206 ]\n",
            " [0.15058269]\n",
            " [0.1210984 ]\n",
            " [0.09298268]\n",
            " [0.17262343]\n",
            " [0.97252804]\n",
            " [0.9036839 ]\n",
            " [0.09505265]\n",
            " [0.05109373]\n",
            " [0.74490446]\n",
            " [0.13303614]\n",
            " [0.05149558]\n",
            " [0.8948397 ]\n",
            " [0.98562944]\n",
            " [0.81178504]\n",
            " [0.93034524]\n",
            " [0.11678657]\n",
            " [0.04145424]\n",
            " [0.8795373 ]\n",
            " [0.05658067]\n",
            " [0.07135877]\n",
            " [0.10547226]\n",
            " [0.07061514]\n",
            " [0.10681397]\n",
            " [0.87657994]\n",
            " [0.9412377 ]\n",
            " [0.05396366]\n",
            " [0.93606395]\n",
            " [0.05439602]\n",
            " [0.9668936 ]\n",
            " [0.03211322]\n",
            " [0.14740317]\n",
            " [0.7903177 ]\n",
            " [0.9900148 ]\n",
            " [0.10282005]\n",
            " [0.91602576]\n",
            " [0.7376612 ]\n",
            " [0.04187806]\n",
            " [0.11094603]]\n"
          ]
        }
      ]
    },
    {
      "cell_type": "code",
      "source": [
        "len(predictions)"
      ],
      "metadata": {
        "colab": {
          "base_uri": "https://localhost:8080/"
        },
        "id": "FOGNEUadtVGv",
        "outputId": "1bb5b4f3-74a2-4fc7-c36c-cd14168dfa26"
      },
      "execution_count": null,
      "outputs": [
        {
          "output_type": "execute_result",
          "data": {
            "text/plain": [
              "200"
            ]
          },
          "metadata": {},
          "execution_count": 27
        }
      ]
    },
    {
      "cell_type": "code",
      "source": [
        "test_datagen = ImageDataGenerator(rescale=1./255)\n",
        "test_data = test_datagen.flow_from_directory(\n",
        "    test_dir,\n",
        "    target_size=(256,256),\n",
        "    batch_size=32,\n",
        "    class_mode='binary'\n",
        ")"
      ],
      "metadata": {
        "colab": {
          "base_uri": "https://localhost:8080/"
        },
        "id": "tw351j9YtWPn",
        "outputId": "ff4ff460-c17a-4cc1-c2ec-96ca55e0604e"
      },
      "execution_count": null,
      "outputs": [
        {
          "output_type": "stream",
          "name": "stdout",
          "text": [
            "Found 200 images belonging to 2 classes.\n"
          ]
        }
      ]
    },
    {
      "cell_type": "code",
      "source": [
        "from sklearn.metrics import confusion_matrix, classification_report\n",
        "\n",
        "# Assuming you have ground truth labels (true_labels) and predicted labels (predictions)\n",
        "true_labels = test_data.classes\n",
        "predicted_labels = (predictions > 0.5).astype(int)  # Adjust the threshold as needed\n",
        "\n",
        "#Define class labels\n",
        "class_labels = ['Covid', 'Normal']\n",
        "\n",
        "# Calculate confusion matrix\n",
        "cm = confusion_matrix(true_labels, predicted_labels)\n",
        "\n",
        "# Print confusion matrix\n",
        "print(\"Confusion Matrix:\")\n",
        "print(cm)\n",
        "\n",
        "# Print classification report\n",
        "print(\"Classification Report:\")\n",
        "print(classification_report(true_labels, predicted_labels))"
      ],
      "metadata": {
        "colab": {
          "base_uri": "https://localhost:8080/"
        },
        "id": "p8WBMcFSuldn",
        "outputId": "10df9a8d-ecc9-44d9-90ee-8152422e4f9c"
      },
      "execution_count": null,
      "outputs": [
        {
          "output_type": "stream",
          "name": "stdout",
          "text": [
            "Confusion Matrix:\n",
            "[[52 48]\n",
            " [50 50]]\n",
            "Classification Report:\n",
            "              precision    recall  f1-score   support\n",
            "\n",
            "           0       0.51      0.52      0.51       100\n",
            "           1       0.51      0.50      0.51       100\n",
            "\n",
            "    accuracy                           0.51       200\n",
            "   macro avg       0.51      0.51      0.51       200\n",
            "weighted avg       0.51      0.51      0.51       200\n",
            "\n"
          ]
        }
      ]
    },
    {
      "cell_type": "code",
      "source": [
        "import seaborn as sns\n",
        "plt.figure(figsize=(10,10))\n",
        "sns.heatmap(cm, cmap='Greens', linecolor='black', linewidth=1, annot=True, fmt='', xticklabels=class_labels, yticklabels=class_labels)\n",
        "plt.show()"
      ],
      "metadata": {
        "colab": {
          "base_uri": "https://localhost:8080/",
          "height": 836
        },
        "id": "3gGznmnJvvw0",
        "outputId": "3aa77789-579d-4b4d-e221-58861dd0a86a"
      },
      "execution_count": null,
      "outputs": [
        {
          "output_type": "display_data",
          "data": {
            "text/plain": [
              "<Figure size 1000x1000 with 2 Axes>"
            ],
            "image/png": "[encoded data removed]"
          },
          "metadata": {}
        }
      ]
    }
  ]
}
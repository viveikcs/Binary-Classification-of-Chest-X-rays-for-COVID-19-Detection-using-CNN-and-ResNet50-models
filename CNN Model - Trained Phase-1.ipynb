{
  "nbformat": 4,
  "nbformat_minor": 0,
  "metadata": {
    "colab": {
      "provenance": []
    },
    "kernelspec": {
      "name": "python3",
      "display_name": "Python 3"
    },
    "language_info": {
      "name": "python"
    }
  },
  "cells": [
    {
      "cell_type": "code",
      "execution_count": null,
      "metadata": {
        "colab": {
          "base_uri": "https://localhost:8080/"
        },
        "id": "z_SI70nfaYNf",
        "outputId": "c0df7ed7-b0ad-462c-d1b3-690d94cebc82"
      },
      "outputs": [
        {
          "output_type": "stream",
          "name": "stdout",
          "text": [
            "Mounted at /content/drive\n"
          ]
        }
      ],
      "source": [
        "#My dataset is available in googledrive; so I am accessing my drive from colab\n",
        "from google.colab import drive\n",
        "drive.mount('/content/drive', force_remount=True)\n",
        "#Once this is executed, you will see your drive appearing on the left hand side"
      ]
    },
    {
      "cell_type": "code",
      "source": [
        "# Define paths to the dataset\n",
        "train_dir = '/content/drive/MyDrive/COVID-19 Chest X-ray Image Dataset/train'\n",
        "test_dir = '/content/drive/MyDrive/COVID-19 Chest X-ray Image Dataset/test'"
      ],
      "metadata": {
        "id": "bvlsGpYObvLD"
      },
      "execution_count": null,
      "outputs": []
    },
    {
      "cell_type": "code",
      "source": [
        "import os\n",
        "print(len(os.listdir('/content/drive/MyDrive/COVID-19 Chest X-ray Image Dataset/train/covid')))\n",
        "print(len(os.listdir('/content/drive/MyDrive/COVID-19 Chest X-ray Image Dataset/train/normal')))\n",
        "print(len(os.listdir('/content/drive/MyDrive/COVID-19 Chest X-ray Image Dataset/test/covid')))\n",
        "print(len(os.listdir('/content/drive/MyDrive/COVID-19 Chest X-ray Image Dataset/test/normal')))"
      ],
      "metadata": {
        "colab": {
          "base_uri": "https://localhost:8080/"
        },
        "id": "6aEZC3ptcYRA",
        "outputId": "b2d388f0-3e5d-4269-f816-2bb6ad1fb6d4"
      },
      "execution_count": null,
      "outputs": [
        {
          "output_type": "stream",
          "name": "stdout",
          "text": [
            "200\n",
            "200\n",
            "100\n",
            "100\n"
          ]
        }
      ]
    },
    {
      "cell_type": "code",
      "source": [
        "import tensorflow as tf\n",
        "from tensorflow.keras.preprocessing.image import ImageDataGenerator\n",
        "\n",
        "# Create ImageDataGenerator for training set\n",
        "train_datagen = ImageDataGenerator(\n",
        "    rescale=1./255,\n",
        "    validation_split=0.2  # Split 20% of the images for validation\n",
        ")\n",
        "\n",
        "# Load and prepare training data\n",
        "train_data = train_datagen.flow_from_directory(\n",
        "    train_dir,\n",
        "    target_size=(256,256),\n",
        "    batch_size=32,\n",
        "    class_mode='binary',  # 'binary' for binary classification\n",
        "    subset='training'  # Specify 'training' for the training set\n",
        ")\n",
        "\n",
        "# Create ImageDataGenerator for validation set\n",
        "validation_datagen = ImageDataGenerator(\n",
        "    rescale=1./255,\n",
        "    validation_split=0.2  # Note: Using the same validation split as in the training set\n",
        ")\n",
        "\n",
        "# Load and prepare validation data\n",
        "validation_data = validation_datagen.flow_from_directory(\n",
        "    train_dir,\n",
        "    target_size=(256,256),\n",
        "    batch_size=32,\n",
        "    class_mode='binary',\n",
        "    subset='validation'  # Specify 'validation' for the validation set\n",
        ")"
      ],
      "metadata": {
        "colab": {
          "base_uri": "https://localhost:8080/"
        },
        "id": "tJf6f7GVc4fM",
        "outputId": "95da03be-74dc-469e-df58-2f2a8690b846"
      },
      "execution_count": null,
      "outputs": [
        {
          "output_type": "stream",
          "name": "stdout",
          "text": [
            "Found 320 images belonging to 2 classes.\n",
            "Found 80 images belonging to 2 classes.\n"
          ]
        }
      ]
    },
    {
      "cell_type": "code",
      "source": [
        "from tensorflow import keras\n",
        "from keras import Sequential\n",
        "from keras.layers import Dense,Conv2D,MaxPooling2D,Flatten,BatchNormalization,UpSampling2D, Dropout"
      ],
      "metadata": {
        "id": "h0ni9-CPda7h"
      },
      "execution_count": null,
      "outputs": []
    },
    {
      "cell_type": "code",
      "source": [
        "# create CNN model\n",
        "\n",
        "model = Sequential()\n",
        "\n",
        "model.add(Conv2D(32,kernel_size=(3,3),padding='valid',activation='relu',input_shape=(256,256,3)))  # 32 filters\n",
        "#model.add(BatchNormalization())  # added to reduce overfitting\n",
        "model.add(MaxPooling2D(pool_size=(2,2),strides=2,padding='valid'))\n",
        "\n",
        "model.add(Conv2D(64,kernel_size=(3,3),padding='valid',activation='relu'))\n",
        "#model.add(BatchNormalization())  # added to reduce overfitting\n",
        "model.add(MaxPooling2D(pool_size=(2,2),strides=2,padding='valid'))\n",
        "\n",
        "model.add(Conv2D(128,kernel_size=(3,3),padding='valid',activation='relu'))\n",
        "#model.add(BatchNormalization())  # added to reduce overfitting\n",
        "model.add(MaxPooling2D(pool_size=(2,2),strides=2,padding='valid'))\n",
        "\n",
        "model.add(Flatten())\n",
        "\n",
        "model.add(Dense(128,activation='relu')) #feature reduction\n",
        "#model.add(Dropout(0.1))  # added to reduce overfitting\n",
        "model.add(Dense(64,activation='relu'))\n",
        "#model.add(Dropout(0.1))  # added to reduce overfitting\n",
        "model.add(Dense(1,activation='sigmoid'))  #output layer"
      ],
      "metadata": {
        "id": "ouMGwTJxddBJ"
      },
      "execution_count": null,
      "outputs": []
    },
    {
      "cell_type": "code",
      "source": [
        "from keras.optimizers import Adam\n",
        "model.compile(optimizer=Adam(learning_rate=0.001),loss='binary_crossentropy',metrics=['accuracy']) #binary_crossentropy - binary classification"
      ],
      "metadata": {
        "id": "w2jc8VjAduwJ"
      },
      "execution_count": null,
      "outputs": []
    },
    {
      "cell_type": "code",
      "source": [
        "history = model.fit(train_data, epochs=10, validation_data=validation_data)"
      ],
      "metadata": {
        "colab": {
          "base_uri": "https://localhost:8080/",
          "height": 175
        },
        "id": "E5AvSIIvdxpx",
        "outputId": "7625587a-ccde-4b19-c4fe-7136a0ac3489"
      },
      "execution_count": null,
      "outputs": [
        {
          "output_type": "error",
          "ename": "NameError",
          "evalue": "name 'model' is not defined",
          "traceback": [
            "\u001b[0;31m---------------------------------------------------------------------------\u001b[0m",
            "\u001b[0;31mNameError\u001b[0m                                 Traceback (most recent call last)",
            "\u001b[0;32m<ipython-input-1-6119c46eed5d>\u001b[0m in \u001b[0;36m<cell line: 1>\u001b[0;34m()\u001b[0m\n\u001b[0;32m----> 1\u001b[0;31m \u001b[0mhistory\u001b[0m \u001b[0;34m=\u001b[0m \u001b[0mmodel\u001b[0m\u001b[0;34m.\u001b[0m\u001b[0mfit\u001b[0m\u001b[0;34m(\u001b[0m\u001b[0mtrain_data\u001b[0m\u001b[0;34m,\u001b[0m \u001b[0mepochs\u001b[0m\u001b[0;34m=\u001b[0m\u001b[0;36m10\u001b[0m\u001b[0;34m,\u001b[0m \u001b[0mvalidation_data\u001b[0m\u001b[0;34m=\u001b[0m\u001b[0mvalidation_data\u001b[0m\u001b[0;34m)\u001b[0m\u001b[0;34m\u001b[0m\u001b[0;34m\u001b[0m\u001b[0m\n\u001b[0m",
            "\u001b[0;31mNameError\u001b[0m: name 'model' is not defined"
          ]
        }
      ]
    },
    {
      "cell_type": "code",
      "source": [
        "model.save('my_model_covid.keras')"
      ],
      "metadata": {
        "id": "Y3IR3FbsF1dY"
      },
      "execution_count": null,
      "outputs": []
    },
    {
      "cell_type": "code",
      "source": [
        "import matplotlib.pyplot as plt\n",
        "\n",
        "plt.plot(history.history['accuracy'],color='red',label='train')\n",
        "plt.plot(history.history['val_accuracy'],color='blue',label='validation')\n",
        "plt.legend()\n",
        "plt.show()"
      ],
      "metadata": {
        "colab": {
          "base_uri": "https://localhost:8080/",
          "height": 430
        },
        "id": "qu-7HXGqmTBB",
        "outputId": "b14466fb-e26c-452a-9763-226113d342ce"
      },
      "execution_count": null,
      "outputs": [
        {
          "output_type": "display_data",
          "data": {
            "text/plain": [
              "<Figure size 640x480 with 1 Axes>"
            ],
            "image/png": "[encoded data removed]"
          },
          "metadata": {}
        }
      ]
    },
    {
      "cell_type": "code",
      "source": [
        "plt.plot(history.history['loss'],color='red',label='train')\n",
        "plt.plot(history.history['val_loss'],color='blue',label='validation')\n",
        "plt.legend()\n",
        "plt.show()"
      ],
      "metadata": {
        "colab": {
          "base_uri": "https://localhost:8080/",
          "height": 430
        },
        "id": "_CME8hV0wfZ9",
        "outputId": "76983f32-a431-40b8-a09f-cc6e8f8227c2"
      },
      "execution_count": null,
      "outputs": [
        {
          "output_type": "display_data",
          "data": {
            "text/plain": [
              "<Figure size 640x480 with 1 Axes>"
            ],
            "image/png": "[encoded data removed]"
          },
          "metadata": {}
        }
      ]
    },
    {
      "cell_type": "code",
      "source": [
        "model.evaluate(train_data)"
      ],
      "metadata": {
        "colab": {
          "base_uri": "https://localhost:8080/"
        },
        "id": "RRn1WfaL5b4b",
        "outputId": "d4e5562f-1a63-44d3-e073-d41ec0e7e811"
      },
      "execution_count": null,
      "outputs": [
        {
          "output_type": "stream",
          "name": "stdout",
          "text": [
            "10/10 [==============================] - 24s 2s/step - loss: 0.0741 - accuracy: 0.9594\n"
          ]
        },
        {
          "output_type": "execute_result",
          "data": {
            "text/plain": [
              "[0.074065200984478, 0.9593750238418579]"
            ]
          },
          "metadata": {},
          "execution_count": 16
        }
      ]
    },
    {
      "cell_type": "code",
      "source": [
        "model.evaluate(validation_data)"
      ],
      "metadata": {
        "colab": {
          "base_uri": "https://localhost:8080/"
        },
        "id": "egNJtYku5f0F",
        "outputId": "da7a3779-629a-4ad7-cedc-f20d0c1b1d22"
      },
      "execution_count": null,
      "outputs": [
        {
          "output_type": "stream",
          "name": "stdout",
          "text": [
            "3/3 [==============================] - 4s 850ms/step - loss: 0.5503 - accuracy: 0.8375\n"
          ]
        },
        {
          "output_type": "execute_result",
          "data": {
            "text/plain": [
              "[0.5502685904502869, 0.8374999761581421]"
            ]
          },
          "metadata": {},
          "execution_count": 17
        }
      ]
    },
    {
      "cell_type": "code",
      "source": [
        "test_datagen = ImageDataGenerator(rescale=1./255)\n",
        "test_data = test_datagen.flow_from_directory(\n",
        "    test_dir,\n",
        "    target_size=(256,256),\n",
        "    batch_size=32,\n",
        "    class_mode='binary'\n",
        ")"
      ],
      "metadata": {
        "colab": {
          "base_uri": "https://localhost:8080/"
        },
        "id": "qpCRk4XPwkuK",
        "outputId": "3aae342a-3647-4115-a7e9-48ff9ac70876"
      },
      "execution_count": null,
      "outputs": [
        {
          "output_type": "stream",
          "name": "stdout",
          "text": [
            "Found 200 images belonging to 2 classes.\n"
          ]
        }
      ]
    },
    {
      "cell_type": "code",
      "source": [
        "#predict the test data\n",
        "predictions = model.predict(test_data)\n",
        "print(predictions)"
      ],
      "metadata": {
        "colab": {
          "base_uri": "https://localhost:8080/"
        },
        "id": "_NTZHpqmwoP9",
        "outputId": "7cb6db27-32a3-4d0e-98e0-d5abf5592128"
      },
      "execution_count": null,
      "outputs": [
        {
          "output_type": "stream",
          "name": "stdout",
          "text": [
            "7/7 [==============================] - 21s 3s/step\n",
            "[[5.41164633e-03]\n",
            " [9.99995530e-01]\n",
            " [3.91854439e-03]\n",
            " [7.06387172e-03]\n",
            " [1.00000000e+00]\n",
            " [9.99998748e-01]\n",
            " [5.13943061e-02]\n",
            " [1.00000000e+00]\n",
            " [3.86105967e-03]\n",
            " [9.99985218e-01]\n",
            " [9.22538340e-01]\n",
            " [9.99995649e-01]\n",
            " [9.95816112e-01]\n",
            " [7.64751613e-01]\n",
            " [7.59548068e-01]\n",
            " [9.46871069e-07]\n",
            " [1.00000000e+00]\n",
            " [9.99999285e-01]\n",
            " [1.00000000e+00]\n",
            " [9.78386760e-01]\n",
            " [5.29552635e-04]\n",
            " [9.99890566e-01]\n",
            " [9.99986887e-01]\n",
            " [4.89322469e-02]\n",
            " [9.99998391e-01]\n",
            " [9.99436915e-01]\n",
            " [9.99991000e-01]\n",
            " [9.99992549e-01]\n",
            " [1.00000000e+00]\n",
            " [3.65781671e-05]\n",
            " [1.00000000e+00]\n",
            " [1.00000000e+00]\n",
            " [7.48617388e-03]\n",
            " [1.00000000e+00]\n",
            " [9.99999940e-01]\n",
            " [9.64487970e-01]\n",
            " [8.52881745e-03]\n",
            " [1.60420358e-01]\n",
            " [2.41368853e-05]\n",
            " [2.27495894e-01]\n",
            " [2.25107614e-02]\n",
            " [4.98074223e-06]\n",
            " [1.00000000e+00]\n",
            " [9.99992669e-01]\n",
            " [2.36596212e-01]\n",
            " [2.82389462e-01]\n",
            " [1.73839796e-02]\n",
            " [9.99865174e-01]\n",
            " [9.99999881e-01]\n",
            " [3.73273678e-02]\n",
            " [2.69427896e-02]\n",
            " [9.99996126e-01]\n",
            " [1.81490824e-01]\n",
            " [9.99912143e-01]\n",
            " [9.06133039e-07]\n",
            " [6.14032615e-04]\n",
            " [1.00000000e+00]\n",
            " [3.60937789e-03]\n",
            " [6.30622804e-02]\n",
            " [9.99997735e-01]\n",
            " [7.93291163e-03]\n",
            " [9.92979527e-01]\n",
            " [9.99999762e-01]\n",
            " [9.99988616e-01]\n",
            " [1.02496417e-02]\n",
            " [9.99536932e-01]\n",
            " [9.99952734e-01]\n",
            " [9.54063773e-01]\n",
            " [9.99973536e-01]\n",
            " [1.59031034e-01]\n",
            " [1.11551984e-04]\n",
            " [9.55843076e-04]\n",
            " [1.00000000e+00]\n",
            " [9.99999821e-01]\n",
            " [1.83945037e-02]\n",
            " [2.92303544e-02]\n",
            " [2.36533090e-01]\n",
            " [9.99999523e-01]\n",
            " [9.99989450e-01]\n",
            " [2.72142202e-01]\n",
            " [1.20870396e-03]\n",
            " [1.95625671e-05]\n",
            " [6.83172271e-02]\n",
            " [5.09319343e-02]\n",
            " [6.34347647e-03]\n",
            " [9.99998271e-01]\n",
            " [5.06941378e-01]\n",
            " [8.94009471e-02]\n",
            " [1.20514398e-02]\n",
            " [9.99999046e-01]\n",
            " [3.10949763e-05]\n",
            " [8.59638760e-08]\n",
            " [1.46149423e-05]\n",
            " [1.13739644e-03]\n",
            " [9.99996841e-01]\n",
            " [1.02072932e-01]\n",
            " [9.99999464e-01]\n",
            " [9.99984920e-01]\n",
            " [4.84510139e-03]\n",
            " [9.99994695e-01]\n",
            " [1.00000000e+00]\n",
            " [1.50568215e-02]\n",
            " [6.70795143e-03]\n",
            " [8.97196423e-06]\n",
            " [9.99683022e-01]\n",
            " [1.33993999e-05]\n",
            " [2.34600678e-02]\n",
            " [3.20538133e-01]\n",
            " [1.00000000e+00]\n",
            " [1.52824089e-06]\n",
            " [8.77742052e-01]\n",
            " [4.25912222e-05]\n",
            " [1.00000000e+00]\n",
            " [9.99994278e-01]\n",
            " [9.99978304e-01]\n",
            " [4.04570019e-04]\n",
            " [5.24543157e-06]\n",
            " [9.99997616e-01]\n",
            " [1.39808748e-04]\n",
            " [9.99999821e-01]\n",
            " [9.99999881e-01]\n",
            " [1.00000000e+00]\n",
            " [9.99436736e-01]\n",
            " [2.58780987e-04]\n",
            " [4.64889945e-06]\n",
            " [2.59891152e-04]\n",
            " [3.06450780e-02]\n",
            " [1.53184601e-03]\n",
            " [6.78699798e-05]\n",
            " [2.75582657e-03]\n",
            " [9.99999762e-01]\n",
            " [2.33424059e-03]\n",
            " [3.44205153e-04]\n",
            " [1.00000000e+00]\n",
            " [1.00000000e+00]\n",
            " [9.99379277e-01]\n",
            " [9.18378532e-01]\n",
            " [9.84671235e-01]\n",
            " [9.99999762e-01]\n",
            " [9.73198712e-01]\n",
            " [9.99997139e-01]\n",
            " [5.25864959e-02]\n",
            " [1.15862498e-02]\n",
            " [1.67154963e-06]\n",
            " [1.13385199e-02]\n",
            " [3.62582840e-02]\n",
            " [1.33316653e-05]\n",
            " [9.99913871e-01]\n",
            " [3.47564579e-04]\n",
            " [9.99971151e-01]\n",
            " [9.98887002e-01]\n",
            " [9.99984503e-01]\n",
            " [9.99958992e-01]\n",
            " [9.99972522e-01]\n",
            " [1.00000000e+00]\n",
            " [9.40081552e-02]\n",
            " [1.91470754e-04]\n",
            " [9.99992311e-01]\n",
            " [3.57268436e-05]\n",
            " [6.42669141e-01]\n",
            " [7.49943964e-03]\n",
            " [9.68764544e-01]\n",
            " [1.00000000e+00]\n",
            " [2.40218570e-03]\n",
            " [2.65782887e-06]\n",
            " [9.99999940e-01]\n",
            " [7.22498316e-06]\n",
            " [6.70875465e-07]\n",
            " [1.00000000e+00]\n",
            " [9.99998987e-01]\n",
            " [1.95715238e-05]\n",
            " [9.99998748e-01]\n",
            " [2.51537375e-03]\n",
            " [1.00000000e+00]\n",
            " [1.20870396e-03]\n",
            " [9.99999940e-01]\n",
            " [6.00596607e-01]\n",
            " [3.54025542e-04]\n",
            " [9.99998510e-01]\n",
            " [9.99999940e-01]\n",
            " [9.99999762e-01]\n",
            " [9.99998987e-01]\n",
            " [9.69788790e-01]\n",
            " [1.00000000e+00]\n",
            " [1.00000000e+00]\n",
            " [1.00000000e+00]\n",
            " [5.27610350e-03]\n",
            " [3.29603165e-01]\n",
            " [3.55908670e-03]\n",
            " [1.00000000e+00]\n",
            " [4.34364043e-02]\n",
            " [4.13223282e-02]\n",
            " [1.00000000e+00]\n",
            " [4.75256238e-03]\n",
            " [9.99997795e-01]\n",
            " [2.66240939e-04]\n",
            " [6.91841170e-03]\n",
            " [5.99662826e-06]\n",
            " [1.51587461e-04]\n",
            " [9.99981642e-01]]\n"
          ]
        }
      ]
    },
    {
      "cell_type": "code",
      "source": [
        "len(predictions)"
      ],
      "metadata": {
        "colab": {
          "base_uri": "https://localhost:8080/"
        },
        "id": "qUaVpCIcw0C9",
        "outputId": "b062493f-8cc5-43be-af69-1c6678d40a1d"
      },
      "execution_count": null,
      "outputs": [
        {
          "output_type": "execute_result",
          "data": {
            "text/plain": [
              "200"
            ]
          },
          "metadata": {},
          "execution_count": 13
        }
      ]
    },
    {
      "cell_type": "code",
      "source": [
        "from sklearn.metrics import confusion_matrix, classification_report\n",
        "\n",
        "# Assuming you have ground truth labels (true_labels) and predicted labels (predictions)\n",
        "true_labels = test_data.classes\n",
        "predicted_labels = (predictions > 0.5).astype(int)  # Adjust the threshold as needed\n",
        "\n",
        "#Define class labels\n",
        "class_labels = ['Covid', 'Normal']\n",
        "\n",
        "# Calculate confusion matrix\n",
        "cm = confusion_matrix(true_labels, predicted_labels)\n",
        "\n",
        "# Print confusion matrix\n",
        "print(\"Confusion Matrix:\")\n",
        "print(cm)\n",
        "\n",
        "# Print classification report\n",
        "print(\"Classification Report:\")\n",
        "print(classification_report(true_labels, predicted_labels))"
      ],
      "metadata": {
        "colab": {
          "base_uri": "https://localhost:8080/"
        },
        "id": "zlgExS38w87p",
        "outputId": "f4cf6c9d-0386-41e1-fc61-a5dc4bcb3dd5"
      },
      "execution_count": null,
      "outputs": [
        {
          "output_type": "stream",
          "name": "stdout",
          "text": [
            "Confusion Matrix:\n",
            "[[48 52]\n",
            " [49 51]]\n",
            "Classification Report:\n",
            "              precision    recall  f1-score   support\n",
            "\n",
            "           0       0.49      0.48      0.49       100\n",
            "           1       0.50      0.51      0.50       100\n",
            "\n",
            "    accuracy                           0.49       200\n",
            "   macro avg       0.49      0.49      0.49       200\n",
            "weighted avg       0.49      0.49      0.49       200\n",
            "\n"
          ]
        }
      ]
    },
    {
      "cell_type": "code",
      "source": [
        "import seaborn as sns\n",
        "plt.figure(figsize=(10,10))\n",
        "sns.heatmap(cm, cmap='Reds', linecolor='black', linewidth=1, annot=True, fmt='', xticklabels=class_labels, yticklabels=class_labels)\n",
        "plt.show()"
      ],
      "metadata": {
        "id": "rG89_Ja6aTKZ",
        "colab": {
          "base_uri": "https://localhost:8080/",
          "height": 836
        },
        "outputId": "48726e84-82f0-43cc-fa9d-68ac942ce1af"
      },
      "execution_count": null,
      "outputs": [
        {
          "output_type": "display_data",
          "data": {
            "text/plain": [
              "<Figure size 1000x1000 with 2 Axes>"
            ],
            "image/png": "[encoded data removed]"
          },
          "metadata": {}
        }
      ]
    }
  ]
}